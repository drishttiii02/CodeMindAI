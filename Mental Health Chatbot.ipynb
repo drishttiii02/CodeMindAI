{
 "cells": [
  {
   "cell_type": "code",
   "execution_count": 7,
   "id": "d2b1b6ac-f84e-4bcb-bac2-9d62ebf88db4",
   "metadata": {},
   "outputs": [
    {
     "name": "stdout",
     "output_type": "stream",
     "text": [
      "Model Accuracy: 80.29%\n",
      "Classification Report:\n",
      "                                         precision    recall  f1-score   support\n",
      "\n",
      "                         accepting_help       1.00      1.00      1.00         2\n",
      "                  adapting_to_new_roles       1.00      1.00      1.00         2\n",
      "                              addiction       1.00      1.00      1.00         2\n",
      "                       anger_management       1.00      1.00      1.00         2\n",
      "                        anxiety_general       1.00      1.00      1.00         2\n",
      "                          assertiveness       1.00      1.00      1.00         2\n",
      "                       boundary_setting       1.00      1.00      1.00         2\n",
      "                        breaking_habits       1.00      1.00      1.00         2\n",
      "                 building_better_habits       1.00      1.00      1.00         2\n",
      "                       building_empathy       0.50      0.50      0.50         2\n",
      "                    building_resilience       1.00      0.50      0.67         2\n",
      "               building_self_discipline       1.00      1.00      1.00         2\n",
      "                         building_trust       1.00      0.50      0.67         2\n",
      "                                burnout       1.00      1.00      1.00         2\n",
      "                   communication_skills       0.67      1.00      0.80         2\n",
      "                        comparison_trap       0.67      1.00      0.80         2\n",
      "                    coping_with_boredom       1.00      1.00      1.00         2\n",
      "                     coping_with_change       0.50      1.00      0.67         2\n",
      "             coping_with_chronic_stress       1.00      1.00      1.00         2\n",
      "                       coping_with_envy       1.00      1.00      1.00         2\n",
      "                    coping_with_failure       1.00      0.50      0.67         2\n",
      "                       coping_with_fear       1.00      1.00      1.00         2\n",
      "                      coping_with_grief       1.00      0.50      0.67         2\n",
      "          coping_with_imposter_syndrome       1.00      1.00      1.00         2\n",
      "coping_with_insecurity_in_relationships       1.00      1.00      1.00         2\n",
      "                   coping_with_jealousy       1.00      0.50      0.67         2\n",
      "          coping_with_lack_of_direction       0.67      1.00      0.80         2\n",
      "         coping_with_lack_of_motivation       1.00      1.00      1.00         2\n",
      "           coping_with_life_transitions       0.50      1.00      0.67         2\n",
      "                       coping_with_loss       1.00      1.00      1.00         2\n",
      "              coping_with_perfectionism       1.00      0.50      0.67         2\n",
      "                     coping_with_regret       1.00      1.00      1.00         2\n",
      "                  coping_with_rejection       0.50      0.50      0.50         2\n",
      "          coping_with_rejection_at_work       1.00      1.00      1.00         2\n",
      "   coping_with_rejection_in_friendships       0.00      0.00      0.00         2\n",
      "        coping_with_repetitive_thoughts       1.00      1.00      1.00         2\n",
      "                 coping_with_resentment       0.67      1.00      0.80         2\n",
      "             coping_with_social_anxiety       0.50      0.50      0.50         2\n",
      "         dealing_with_conflicting_goals       0.50      1.00      0.67         2\n",
      "                 dealing_with_criticism       1.00      1.00      1.00         2\n",
      "            dealing_with_disappointment       1.00      0.50      0.67         2\n",
      "           dealing_with_fear_of_failure       1.00      1.00      1.00         2\n",
      "                      dealing_with_fomo       1.00      0.50      0.67         2\n",
      "                 dealing_with_gratitude       1.00      1.00      1.00         2\n",
      "               dealing_with_inferiority       0.50      0.50      0.50         2\n",
      "                dealing_with_loneliness       0.50      0.50      0.50         2\n",
      "        dealing_with_negative_self_talk       1.00      0.50      0.67         2\n",
      "              dealing_with_overthinking       0.50      0.50      0.50         2\n",
      "        dealing_with_perceived_failures       0.67      1.00      0.80         2\n",
      "                 dealing_with_pessimism       1.00      1.00      1.00         2\n",
      "       dealing_with_revengeful_feelings       1.00      1.00      1.00         2\n",
      "                  dealing_with_setbacks       0.67      1.00      0.80         2\n",
      "                        decision_making       1.00      1.00      1.00         2\n",
      "                             depression       0.50      1.00      0.67         2\n",
      "                   emotional_exhaustion       1.00      1.00      1.00         2\n",
      "                         fear_of_change       0.50      0.50      0.50         2\n",
      "                        fear_of_failure       1.00      1.00      1.00         2\n",
      "                       financial_stress       0.67      1.00      0.80         2\n",
      "                        finding_balance       1.00      0.50      0.67         2\n",
      "                        finding_clarity       1.00      0.50      0.67         2\n",
      "                      finding_happiness       1.00      0.50      0.67         2\n",
      "                            forgiveness       1.00      0.50      0.67         2\n",
      "                       forgiving_myself       1.00      1.00      1.00         2\n",
      "                              gratitude       1.00      0.50      0.67         2\n",
      "                               greeting       1.00      0.50      0.67         2\n",
      "                                  grief       0.67      1.00      0.80         2\n",
      "                                  guilt       1.00      1.00      1.00         2\n",
      "      handling_boredom_in_relationships       0.50      1.00      0.67         2\n",
      "                      handling_bullying       1.00      1.00      1.00         2\n",
      "                     handling_conflicts       1.00      1.00      1.00         2\n",
      "             handling_conflicts_at_work       1.00      1.00      1.00         2\n",
      "                     handling_confusion       0.50      1.00      0.67         2\n",
      "       handling_difficult_conversations       1.00      1.00      1.00         2\n",
      "                 handling_embarrassment       1.00      1.00      1.00         2\n",
      "     handling_jealousy_in_relationships       1.00      0.50      0.67         2\n",
      "                  handling_overthinking       1.00      0.50      0.67         2\n",
      "                 handling_peer_pressure       0.33      0.50      0.40         2\n",
      "           handling_performance_anxiety       1.00      1.00      1.00         2\n",
      "                   handling_uncertainty       0.00      0.00      0.00         2\n",
      "  handling_uncertainty_in_relationships       1.00      1.00      1.00         2\n",
      "             handling_unexpected_events       1.00      0.50      0.67         2\n",
      "                      imposter_syndrome       0.50      1.00      0.67         2\n",
      "         improving_communication_skills       1.00      0.50      0.67         2\n",
      "                        improving_focus       0.67      1.00      0.80         2\n",
      "                 improving_productivity       1.00      1.00      1.00         2\n",
      "                               jealousy       1.00      1.00      1.00         2\n",
      "                             letting_go       1.00      1.00      1.00         2\n",
      "                           life_purpose       1.00      0.50      0.67         2\n",
      "                             loneliness       0.50      0.50      0.50         2\n",
      "                         managing_anger       0.67      1.00      0.80         2\n",
      "             managing_confidence_issues       1.00      1.00      1.00         2\n",
      "                         managing_doubt       0.67      1.00      0.80         2\n",
      "                  managing_expectations       1.00      1.00      1.00         2\n",
      "              managing_family_conflicts       1.00      1.00      1.00         2\n",
      "                       managing_fatigue       1.00      1.00      1.00         2\n",
      "                    managing_hyperfocus       1.00      0.50      0.67         2\n",
      "                    managing_impatience       1.00      1.00      1.00         2\n",
      "                  managing_insecurities       1.00      0.50      0.67         2\n",
      "                      managing_jealousy       0.50      1.00      0.67         2\n",
      "                 managing_perfectionism       0.40      1.00      0.57         2\n",
      "                         managing_pride       1.00      1.00      1.00         2\n",
      "                managing_responsibility       1.00      0.50      0.67         2\n",
      "                   managing_sensitivity       1.00      1.00      1.00         2\n",
      "                       managing_shyness       1.00      0.50      0.67         2\n",
      "             managing_sibling_conflicts       1.00      1.00      1.00         2\n",
      "             managing_social_exhaustion       1.00      1.00      1.00         2\n",
      "         managing_social_media_pressure       1.00      1.00      1.00         2\n",
      "         managing_technology_dependence       0.00      0.00      0.00         2\n",
      "              managing_time_effectively       1.00      1.00      1.00         2\n",
      "                            mindfulness       1.00      1.00      1.00         2\n",
      "                             motivation       1.00      1.00      1.00         2\n",
      "           navigating_friendship_issues       0.00      0.00      0.00         2\n",
      "             navigating_major_decisions       1.00      1.00      1.00         2\n",
      "                 navigating_uncertainty       0.50      1.00      0.67         2\n",
      "              overcoming_indecisiveness       1.00      1.00      1.00         2\n",
      "             overcoming_procrastination       1.00      0.50      0.67         2\n",
      "              overcoming_rejection_fear       0.50      0.50      0.50         2\n",
      "         overcoming_revengeful_thoughts       1.00      1.00      1.00         2\n",
      "                  overcoming_self_doubt       0.50      0.50      0.50         2\n",
      "                         overcommitment       0.67      1.00      0.80         2\n",
      "                           overthinking       0.67      1.00      0.80         2\n",
      "                           panic_attack       1.00      1.00      1.00         2\n",
      "                       parenting_stress       1.00      0.50      0.67         2\n",
      "                          perfectionism       1.00      0.50      0.67         2\n",
      "                             positivity       1.00      1.00      1.00         2\n",
      "                        procrastination       0.67      1.00      0.80         2\n",
      "                relationships_conflicts       0.50      1.00      0.67         2\n",
      "                              self_care       1.00      0.50      0.67         2\n",
      "                         self_discovery       1.00      1.00      1.00         2\n",
      "                            self_esteem       0.00      0.00      0.00         2\n",
      "                              self_harm       0.00      0.00      0.00         2\n",
      "                           sleep_issues       0.00      0.00      0.00         2\n",
      "                         social_anxiety       0.50      0.50      0.50         2\n",
      "                          social_skills       0.67      1.00      0.80         2\n",
      "                            stress_work       1.00      1.00      1.00         2\n",
      "                           trust_issues       0.40      1.00      0.57         2\n",
      "                      work_life_balance       1.00      1.00      1.00         2\n",
      "\n",
      "                               accuracy                           0.80       274\n",
      "                              macro avg       0.82      0.80      0.78       274\n",
      "                           weighted avg       0.82      0.80      0.78       274\n",
      "\n"
     ]
    },
    {
     "name": "stderr",
     "output_type": "stream",
     "text": [
      "/opt/anaconda3/lib/python3.12/site-packages/sklearn/metrics/_classification.py:1531: UndefinedMetricWarning: Precision is ill-defined and being set to 0.0 in labels with no predicted samples. Use `zero_division` parameter to control this behavior.\n",
      "  _warn_prf(average, modifier, f\"{metric.capitalize()} is\", len(result))\n",
      "/opt/anaconda3/lib/python3.12/site-packages/sklearn/metrics/_classification.py:1531: UndefinedMetricWarning: Precision is ill-defined and being set to 0.0 in labels with no predicted samples. Use `zero_division` parameter to control this behavior.\n",
      "  _warn_prf(average, modifier, f\"{metric.capitalize()} is\", len(result))\n",
      "/opt/anaconda3/lib/python3.12/site-packages/sklearn/metrics/_classification.py:1531: UndefinedMetricWarning: Precision is ill-defined and being set to 0.0 in labels with no predicted samples. Use `zero_division` parameter to control this behavior.\n",
      "  _warn_prf(average, modifier, f\"{metric.capitalize()} is\", len(result))\n"
     ]
    }
   ],
   "source": [
    "import json\n",
    "import numpy as np\n",
    "import pickle\n",
    "from sklearn.preprocessing import LabelEncoder\n",
    "from sklearn.feature_extraction.text import TfidfVectorizer\n",
    "from sklearn.model_selection import train_test_split, GridSearchCV\n",
    "from sklearn.svm import SVC\n",
    "from sklearn.metrics import accuracy_score, classification_report\n",
    "from imblearn.over_sampling import SMOTE\n",
    "\n",
    "# Load intents dataset\n",
    "with open('/Users/macbook/Downloads/mental_health_intent_dataset.json') as file:\n",
    "    data = json.load(file)\n",
    "\n",
    "# Extract patterns and tags\n",
    "patterns = []\n",
    "tags = []\n",
    "\n",
    "for intent in data['intents']:\n",
    "    for pattern in intent['patterns']:\n",
    "        patterns.append(pattern)\n",
    "        tags.append(intent['tag'])\n",
    "\n",
    "# Encode target labels\n",
    "label_encoder = LabelEncoder()\n",
    "encoded_tags = label_encoder.fit_transform(tags)\n",
    "\n",
    "# Text vectorization using TF-IDF\n",
    "vectorizer = TfidfVectorizer(max_features=5000)\n",
    "X = vectorizer.fit_transform(patterns).toarray()\n",
    "\n",
    "# Balance the dataset using SMOTE\n",
    "smote = SMOTE(random_state=42, k_neighbors=1)  # Set k_neighbors to 1 to handle small class sizes\n",
    "X_balanced, y_balanced = smote.fit_resample(X, encoded_tags)\n",
    "\n",
    "\n",
    "# Split data into training and testing sets\n",
    "X_train, X_test, y_train, y_test = train_test_split(X_balanced, y_balanced, test_size=0.2, random_state=42, stratify=y_balanced)\n",
    "\n",
    "# Define an SVM model with Grid Search for hyperparameter tuning\n",
    "svc = SVC(probability=True, random_state=42)\n",
    "\n",
    "param_grid = {\n",
    "    'C': [0.1, 1, 10],\n",
    "    'kernel': ['linear', 'rbf'],\n",
    "    'gamma': ['scale', 'auto']\n",
    "}\n",
    "\n",
    "grid_search = GridSearchCV(svc, param_grid, cv=5, scoring='accuracy')\n",
    "grid_search.fit(X_train, y_train)\n",
    "\n",
    "# Best model from Grid Search\n",
    "model = grid_search.best_estimator_\n",
    "\n",
    "# Evaluate the model\n",
    "y_pred = model.predict(X_test)\n",
    "accuracy = accuracy_score(y_test, y_pred)\n",
    "print(f\"Model Accuracy: {accuracy * 100:.2f}%\")\n",
    "print(\"Classification Report:\")\n",
    "print(classification_report(y_test, y_pred, target_names=label_encoder.classes_))\n",
    "\n",
    "# Save the model, label encoder, and vectorizer\n",
    "with open('chatbot_model.pkl', 'wb') as model_file:\n",
    "    pickle.dump(model, model_file)\n",
    "\n",
    "with open('label_encoder.pkl', 'wb') as le_file:\n",
    "    pickle.dump(label_encoder, le_file)\n",
    "\n",
    "with open('vectorizer.pkl', 'wb') as vectorizer_file:\n",
    "    pickle.dump(vectorizer, vectorizer_file)\n"
   ]
  },
  {
   "cell_type": "code",
   "execution_count": null,
   "id": "a6c950d2-5f56-49e3-8394-f0856e959a4a",
   "metadata": {},
   "outputs": [
    {
     "name": "stdout",
     "output_type": "stream",
     "text": [
      "\n",
      "Chat with the bot (type 'quit' to stop):\n"
     ]
    },
    {
     "name": "stdin",
     "output_type": "stream",
     "text": [
      "You:  hi\n"
     ]
    },
    {
     "name": "stdout",
     "output_type": "stream",
     "text": [
      "Bot: Would you like some tips on managing your daily routine? I’m here for you.\n"
     ]
    },
    {
     "name": "stdin",
     "output_type": "stream",
     "text": [
      "You:  I have headache\n"
     ]
    },
    {
     "name": "stdout",
     "output_type": "stream",
     "text": [
      "Bot: Taking a break and prioritizing self-care is essential. Shall we create a plan?\n"
     ]
    },
    {
     "name": "stdin",
     "output_type": "stream",
     "text": [
      "You:  yes\n"
     ]
    },
    {
     "name": "stdout",
     "output_type": "stream",
     "text": [
      "Bot: It’s okay to feel this way. Let’s take small steps together.\n"
     ]
    },
    {
     "name": "stdin",
     "output_type": "stream",
     "text": [
      "You:  ok\n"
     ]
    },
    {
     "name": "stdout",
     "output_type": "stream",
     "text": [
      "Bot: It’s okay to feel this way. Let’s take small steps together.\n"
     ]
    },
    {
     "name": "stdin",
     "output_type": "stream",
     "text": [
      "You:  I feel anxious about everything\n"
     ]
    },
    {
     "name": "stdout",
     "output_type": "stream",
     "text": [
      "Bot: Anxiety can be overwhelming. Talking to a therapist might help.\n"
     ]
    }
   ],
   "source": [
    "# Function to chat with the bot\n",
    "def chatbot_response(user_input):\n",
    "    input_vector = vectorizer.transform([user_input]).toarray()\n",
    "    predicted_tag_index = model.predict(input_vector)[0]\n",
    "    predicted_tag = label_encoder.inverse_transform([predicted_tag_index])[0]\n",
    "\n",
    "    for intent in data['intents']:\n",
    "        if intent['tag'] == predicted_tag:\n",
    "            return np.random.choice(intent['responses'])\n",
    "\n",
    "# Test the chatbot\n",
    "print(\"\\nChat with the bot (type 'quit' to stop):\")\n",
    "while True:\n",
    "    user_input = input(\"You: \")\n",
    "    if user_input.lower() in [\"quit\", \"exit\"]:\n",
    "        break\n",
    "    print(f\"Bot: {chatbot_response(user_input)}\")"
   ]
  },
  {
   "cell_type": "code",
   "execution_count": null,
   "id": "2eadd0ad-7e60-483a-ab86-7dee769025d6",
   "metadata": {},
   "outputs": [],
   "source": []
  }
 ],
 "metadata": {
  "kernelspec": {
   "display_name": "Python 3 (ipykernel)",
   "language": "python",
   "name": "python3"
  },
  "language_info": {
   "codemirror_mode": {
    "name": "ipython",
    "version": 3
   },
   "file_extension": ".py",
   "mimetype": "text/x-python",
   "name": "python",
   "nbconvert_exporter": "python",
   "pygments_lexer": "ipython3",
   "version": "3.12.4"
  }
 },
 "nbformat": 4,
 "nbformat_minor": 5
}
